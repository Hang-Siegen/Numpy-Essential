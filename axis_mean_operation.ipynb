{
 "cells": [
  {
   "cell_type": "code",
   "execution_count": 1,
   "metadata": {},
   "outputs": [],
   "source": [
    "import numpy as np"
   ]
  },
  {
   "cell_type": "markdown",
   "metadata": {},
   "source": [
    "# 1.Basic"
   ]
  },
  {
   "cell_type": "code",
   "execution_count": 2,
   "metadata": {},
   "outputs": [
    {
     "name": "stdout",
     "output_type": "stream",
     "text": [
      "Shape: (2, 3, 4)\n",
      "\n",
      "[[[1. 1. 1. 1.]\n",
      "  [1. 1. 1. 1.]\n",
      "  [1. 1. 1. 1.]]\n",
      "\n",
      " [[1. 1. 1. 1.]\n",
      "  [1. 1. 1. 1.]\n",
      "  [1. 1. 1. 1.]]]\n"
     ]
    }
   ],
   "source": [
    "array = np.ones((2,3,4))\n",
    "print('Shape:',array.shape)\n",
    "print()\n",
    "print(array)"
   ]
  },
  {
   "cell_type": "code",
   "execution_count": 3,
   "metadata": {},
   "outputs": [
    {
     "name": "stdout",
     "output_type": "stream",
     "text": [
      "All elements in Axis=0 would disappear!\n",
      "Shape: (3, 4)\n",
      "\n",
      "[[1. 1. 1. 1.]\n",
      " [1. 1. 1. 1.]\n",
      " [1. 1. 1. 1.]]\n"
     ]
    }
   ],
   "source": [
    "array_0 = np.mean(array, axis=0)\n",
    "print('All elements in Axis=0 would disappear!')\n",
    "print('Shape:', array_0.shape)\n",
    "print()\n",
    "print(array_0)"
   ]
  },
  {
   "cell_type": "code",
   "execution_count": 4,
   "metadata": {},
   "outputs": [
    {
     "name": "stdout",
     "output_type": "stream",
     "text": [
      "All elements in Axis=1 would disappear!\n",
      "Shape: (2, 4)\n",
      "\n",
      "[[1. 1. 1. 1.]\n",
      " [1. 1. 1. 1.]]\n"
     ]
    }
   ],
   "source": [
    "array_1 = np.mean(array, axis=1)\n",
    "print('All elements in Axis=1 would disappear!')\n",
    "print('Shape:', array_1.shape)\n",
    "print()\n",
    "print(array_1)"
   ]
  },
  {
   "cell_type": "code",
   "execution_count": 5,
   "metadata": {},
   "outputs": [
    {
     "name": "stdout",
     "output_type": "stream",
     "text": [
      "All elements in Axis=0 and Axis=1 would disappear!\n",
      "Shape: (4,)\n",
      "\n",
      "[1. 1. 1. 1.]\n"
     ]
    }
   ],
   "source": [
    "array_01 = np.mean(array, axis=(0,1))\n",
    "print('All elements in Axis=0 and Axis=1 would disappear!')\n",
    "print('Shape:', array_01.shape)\n",
    "print()\n",
    "print(array_01)"
   ]
  },
  {
   "cell_type": "code",
   "execution_count": 6,
   "metadata": {},
   "outputs": [
    {
     "name": "stdout",
     "output_type": "stream",
     "text": [
      "All elements in Axis=2 would disappear!\n",
      "Shape: (2, 3)\n",
      "\n",
      "[[1. 1. 1.]\n",
      " [1. 1. 1.]]\n"
     ]
    }
   ],
   "source": [
    "array_2 = np.mean(array, axis=2)\n",
    "print('All elements in Axis=2 would disappear!')\n",
    "print('Shape:', array_2.shape)\n",
    "print()\n",
    "print(array_2)"
   ]
  },
  {
   "cell_type": "code",
   "execution_count": 7,
   "metadata": {},
   "outputs": [
    {
     "name": "stdout",
     "output_type": "stream",
     "text": [
      "All elements in Axis=0, Axis=1 and Axis=2 would disappear!\n",
      "Shape: ()\n",
      "\n",
      "1.0\n"
     ]
    }
   ],
   "source": [
    "array_012 = np.mean(array, axis=(0,1,2))\n",
    "print('All elements in Axis=0, Axis=1 and Axis=2 would disappear!')\n",
    "print('Shape:', array_012.shape)\n",
    "print()\n",
    "print(array_012)"
   ]
  },
  {
   "cell_type": "markdown",
   "metadata": {},
   "source": [
    "# 2. Advanced"
   ]
  },
  {
   "cell_type": "code",
   "execution_count": 8,
   "metadata": {},
   "outputs": [
    {
     "name": "stdout",
     "output_type": "stream",
     "text": [
      "[[[7 1 2 3]\n",
      "  [4 8 3 1]\n",
      "  [2 3 7 5]]\n",
      "\n",
      " [[7 3 2 3]\n",
      "  [6 1 1 3]\n",
      "  [8 2 8 0]]]\n",
      "(2, 3, 4)\n"
     ]
    }
   ],
   "source": [
    "x = np.array([[[7, 1, 2, 3],\n",
    "               [4, 8, 3, 1],\n",
    "               [2, 3, 7, 5]],\n",
    "              [[7, 3, 2, 3],\n",
    "               [6, 1, 1, 3],\n",
    "               [8, 2, 8, 0]]])\n",
    "print(x)\n",
    "print(x.shape)"
   ]
  },
  {
   "cell_type": "code",
   "execution_count": 9,
   "metadata": {},
   "outputs": [],
   "source": [
    "np.set_printoptions(precision=1)"
   ]
  },
  {
   "cell_type": "code",
   "execution_count": 10,
   "metadata": {},
   "outputs": [
    {
     "name": "stdout",
     "output_type": "stream",
     "text": [
      "axis=0\n",
      "[[7.  2.  2.  3. ]\n",
      " [5.  4.5 2.  2. ]\n",
      " [5.  2.5 7.5 2.5]]\n",
      "(3, 4)\n"
     ]
    }
   ],
   "source": [
    "x_0 = np.mean(x, axis=0)\n",
    "print('axis=0')\n",
    "print(x_0)\n",
    "print(x_0.shape)"
   ]
  },
  {
   "cell_type": "code",
   "execution_count": 11,
   "metadata": {},
   "outputs": [
    {
     "name": "stdout",
     "output_type": "stream",
     "text": [
      "axis=1\n",
      "[[4.3 4.  4.  3. ]\n",
      " [7.  2.  3.7 2. ]]\n",
      "[[4.3 4.  4.  3. ]\n",
      " [7.  2.  3.7 2. ]]\n"
     ]
    }
   ],
   "source": [
    "x_1 = np.mean(x, axis=1)\n",
    "print('axis=1')\n",
    "print(x_1)\n",
    "print(x_1)"
   ]
  },
  {
   "cell_type": "code",
   "execution_count": 12,
   "metadata": {},
   "outputs": [
    {
     "name": "stdout",
     "output_type": "stream",
     "text": [
      "axis=2\n",
      "[[3.2 4.  4.2]\n",
      " [3.8 2.8 4.5]]\n",
      "(2, 3)\n"
     ]
    }
   ],
   "source": [
    "x_2 = np.mean(x, axis=2)\n",
    "print('axis=2')\n",
    "print(x_2)\n",
    "print(x_2.shape)"
   ]
  },
  {
   "cell_type": "code",
   "execution_count": 13,
   "metadata": {},
   "outputs": [
    {
     "name": "stdout",
     "output_type": "stream",
     "text": [
      "axis=0 & axis=1\n",
      "[5.7 3.  3.8 2.5]\n",
      "(4,)\n"
     ]
    }
   ],
   "source": [
    "new_x = np.mean(x, axis=(0, 1))\n",
    "print('axis=0 & axis=1')\n",
    "print(new_x)\n",
    "print(new_x.shape)"
   ]
  },
  {
   "cell_type": "code",
   "execution_count": 14,
   "metadata": {},
   "outputs": [
    {
     "name": "stdout",
     "output_type": "stream",
     "text": [
      "axis=0 & axis=1 & axis=2\n",
      "3.75\n",
      "()\n"
     ]
    }
   ],
   "source": [
    "new = np.mean(x, axis=(0, 1, 2))\n",
    "print('axis=0 & axis=1 & axis=2')\n",
    "print(new)\n",
    "print(new.shape)"
   ]
  }
 ],
 "metadata": {
  "kernelspec": {
   "display_name": "Python 3",
   "language": "python",
   "name": "python3"
  },
  "language_info": {
   "codemirror_mode": {
    "name": "ipython",
    "version": 3
   },
   "file_extension": ".py",
   "mimetype": "text/x-python",
   "name": "python",
   "nbconvert_exporter": "python",
   "pygments_lexer": "ipython3",
   "version": "3.7.3"
  }
 },
 "nbformat": 4,
 "nbformat_minor": 4
}
